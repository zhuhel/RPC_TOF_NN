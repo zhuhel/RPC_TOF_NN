{
  "nbformat": 4,
  "nbformat_minor": 0,
  "metadata": {
    "colab": {
      "name": "RPC_CNN.ipynb",
      "provenance": [],
      "include_colab_link": true
    },
    "kernelspec": {
      "name": "python3",
      "display_name": "Python 3"
    },
    "accelerator": "GPU"
  },
  "cells": [
    {
      "cell_type": "markdown",
      "metadata": {
        "id": "view-in-github",
        "colab_type": "text"
      },
      "source": [
        "<a href=\"https://colab.research.google.com/github/zhuhel/RPC_TOF_NN/blob/main/RPC_CNN.ipynb\" target=\"_parent\"><img src=\"https://colab.research.google.com/assets/colab-badge.svg\" alt=\"Open In Colab\"/></a>"
      ]
    },
    {
      "cell_type": "code",
      "metadata": {
        "id": "maLwJVdSqnMx",
        "colab": {
          "base_uri": "https://localhost:8080/",
          "height": 122
        },
        "outputId": "e0b0d7e9-9d07-4f85-fcb2-417fd4c9d68b"
      },
      "source": [
        "from google.colab import drive\n",
        "drive.mount('/content/gdrive')"
      ],
      "execution_count": null,
      "outputs": [
        {
          "output_type": "stream",
          "text": [
            "Go to this URL in a browser: https://accounts.google.com/o/oauth2/auth?client_id=947318989803-6bn6qk8qdgf4n4g3pfee6491hc0brc4i.apps.googleusercontent.com&redirect_uri=urn%3aietf%3awg%3aoauth%3a2.0%3aoob&scope=email%20https%3a%2f%2fwww.googleapis.com%2fauth%2fdocs.test%20https%3a%2f%2fwww.googleapis.com%2fauth%2fdrive%20https%3a%2f%2fwww.googleapis.com%2fauth%2fdrive.photos.readonly%20https%3a%2f%2fwww.googleapis.com%2fauth%2fpeopleapi.readonly&response_type=code\n",
            "\n",
            "Enter your authorization code:\n",
            "··········\n",
            "Mounted at /content/gdrive\n"
          ],
          "name": "stdout"
        }
      ]
    },
    {
      "cell_type": "code",
      "metadata": {
        "id": "VP2kJVy1z6Ed"
      },
      "source": [
        "from torch.utils.data import DataLoader, Dataset\n",
        "from torch.autograd import Variable\n",
        "from torch import optim\n",
        "import torch    # for setting seed to make it reproducible\n",
        "import torch.nn as nn\n",
        "import matplotlib.pyplot as plt  # for plotting\n",
        "import matplotlib.mlab as mlab  # for plotting\n",
        "import struct  # for binary file reading\n",
        "import numpy as np\n",
        "import time  # for time recording\n",
        "import math  # for sqrt\n",
        "from pathlib import Path  # for the size of the binary file\n",
        "from scipy.stats import norm  # for gaussian fit\n",
        "import sys  # for parameter receiving\n",
        "import os  # for mkdir\n",
        "from progressbar import *\n",
        "\n",
        "os.environ['KMP_DUPLICATE_LIB_OK'] = 'TRUE'\n",
        "time_start = time.time()\n",
        "time_epoch = time.time()\n",
        "\n",
        "SEED=5  # reproducible\n",
        "torch.manual_seed(SEED)\n",
        "torch.cuda.manual_seed_all(SEED)\n",
        "np.random.seed(SEED)\n",
        "torch.backends.cudnn.deterministic = True\n",
        "SAMPLE_EPOCH = 1  # test every xx epochs to record mu, timeresolution, and loss\n",
        "EPOCHS = 100\n",
        "\n",
        "MODEL_VERSION = '930'\n",
        "DATA_VERSION = 'Aug-200_900_6'\n",
        "WAVE_LENGTH = 160\n",
        "NCHANNEL = 2\n",
        "\n",
        "LR = 0.0001 + 0.0009*np.random.rand()\n",
        "LRD = 0.9 + 0.1*np.random.rand()\n",
        "BATCH_SIZE = 256\n",
        "DROP_OUT = 0.0\n",
        "WEIGHT_DECAY = 0.0004 + 0.0004*np.random.rand()  # lambda of L2 regularization"
      ],
      "execution_count": null,
      "outputs": []
    },
    {
      "cell_type": "code",
      "metadata": {
        "id": "eihpEAFR19gu"
      },
      "source": [
        "class Waveforms(Dataset):\n",
        "    def __init__(self, root_dir, testRate = 0.3, train=True):\n",
        "        self.root_dir = root_dir\n",
        "        self.train = train\n",
        "        self.file = open(root_dir, 'rb')\n",
        "        self.waveLength = WAVE_LENGTH\n",
        "        self.NChannel = NCHANNEL\n",
        "        self.NEvents = Path(self.root_dir).stat().st_size / \\\n",
        "            (self.waveLength*self.NChannel+1)/4\n",
        "        print('NEvents = ', self.NEvents)\n",
        "        self.testRaio = testRate\n",
        "\n",
        "    def __len__(self):\n",
        "        if self.train:\n",
        "            return int(self.NEvents*(1.0-self.testRaio))\n",
        "        else:\n",
        "            return int(self.NEvents*self.testRaio)\n",
        "\n",
        "    def __getitem__(self, index):\n",
        "        if self.train:\n",
        "            self.file.seek((index+int(self.NEvents*self.testRaio))\n",
        "                           * (self.NChannel*self.waveLength+1)*4, 0)\n",
        "        else:\n",
        "            self.file.seek((index)*(self.NChannel*self.waveLength+1)*4, 0)\n",
        "        data = self.file.read(self.waveLength*self.NChannel*4)\n",
        "        wave = struct.unpack(str(self.NChannel*self.waveLength)+'f', data)\n",
        "        #wave_tensor = torch.tensor(wave, dtype=torch.float32).reshape(1, self.NChannel, self.waveLength)\n",
        "        wave_tensor = torch.tensor(wave, dtype=torch.float32)\n",
        "        data = self.file.read(4)\n",
        "        tof = struct.unpack('f', data)\n",
        "        tof_tensor = torch.tensor(tof, dtype=torch.float32)\n",
        "        sample = {'waveform': wave_tensor, 'tof': tof_tensor}\n",
        "        return sample"
      ],
      "execution_count": null,
      "outputs": []
    },
    {
      "cell_type": "code",
      "metadata": {
        "id": "5b9WD0wXju8R"
      },
      "source": [
        "######################################################################\n",
        "## Define CNN network\n",
        "######################################################################\n",
        "\n",
        "class MLP(nn.Module):\n",
        "    def __init__(self, input_size, common_size):\n",
        "        super(MLP, self).__init__()\n",
        "        self.linear = nn.Sequential(\n",
        "            nn.Linear(input_size, input_size),\n",
        "            nn.ReLU(inplace=True),\n",
        "            nn.Linear(input_size, input_size // 4),\n",
        "            nn.ReLU(inplace=True),\n",
        "            nn.Linear(input_size // 4, common_size)\n",
        "        )\n",
        "\n",
        "    def forward(self, x):\n",
        "        out = self.linear(x)\n",
        "        return out\n",
        "\n",
        "class CNNnet(nn.Module):\n",
        "    def __init__(self):\n",
        "        super(CNNnet,self).__init__()\n",
        "        self.waveLength = WAVE_LENGTH\n",
        "        self.NChannel = NCHANNEL\n",
        "        self.conv1 = torch.nn.Sequential(\n",
        "            torch.nn.Conv2d(in_channels=1,\n",
        "                            out_channels=16,\n",
        "                            kernel_size=2,\n",
        "                            stride=1,\n",
        "                            padding=0),\n",
        "            torch.nn.BatchNorm2d(16),\n",
        "            torch.nn.ReLU()\n",
        "        )\n",
        "        self.conv2 = torch.nn.Sequential(\n",
        "            torch.nn.Conv2d(16,32,2,1,0),\n",
        "            torch.nn.BatchNorm2d(32),\n",
        "            torch.nn.ReLU()\n",
        "        )\n",
        "        self.out1 = torch.nn.Linear((self.waveLength-2)*(self.NChannel-2)*32, 1)\n",
        "    def forward(self, x):\n",
        "        x = self.conv1(x)\n",
        "        x = self.conv2(x)\n",
        "        x = self.out1(x.view(x.size(0),-1))\n",
        "        return x\n"
      ],
      "execution_count": null,
      "outputs": []
    },
    {
      "cell_type": "code",
      "metadata": {
        "id": "R3yQ_PuWqbFv"
      },
      "source": [
        "########################################################################################\n",
        "## INPUT/OUTPUT PATH SETTING ########\n",
        "########################################################################################\n",
        "\n",
        "workspace = '/content/gdrive/My Drive/RPC_TOF/'\n",
        "fileName = workspace+\"/data_6/\"+DATA_VERSION+\".bin\"\n",
        "outputPath = workspace+DATA_VERSION+\"_\"+MODEL_VERSION+\"_Aug25th_mlp/\"\n",
        "if os.path.exists(outputPath) == False:\n",
        "    os.mkdir(outputPath)\n",
        "outputPrefix = DATA_VERSION+\"_SEED\"+str(SEED).zfill(4) + \"_E\"+str(EPOCHS)\n",
        "\n",
        "if False:\n",
        "  print('workspace:',workspace,os.path.exists(workspace))\n",
        "  print('fileName:',fileName,os.path.exists(fileName))\n",
        "  print('outputPath:',outputPath,os.path.exists(outputPath))"
      ],
      "execution_count": null,
      "outputs": []
    },
    {
      "cell_type": "code",
      "metadata": {
        "id": "5lCNZCe1qqpj",
        "colab": {
          "base_uri": "https://localhost:8080/",
          "height": 51
        },
        "outputId": "d0725ce8-e3c7-45d8-fa48-76c331cf7861"
      },
      "source": [
        "print(torch.cuda.device_count())\n",
        "print(torch.cuda.get_device_name(0))"
      ],
      "execution_count": null,
      "outputs": [
        {
          "output_type": "stream",
          "text": [
            "1\n",
            "Tesla K80\n"
          ],
          "name": "stdout"
        }
      ]
    },
    {
      "cell_type": "code",
      "metadata": {
        "id": "ngEc6hmcui0n"
      },
      "source": [
        "def testDataset(network, dataVersion, outputPrefix, input_prefix = \"./Codes/V0.70/Data/\"):\n",
        "    inputFileName = input_prefix+dataVersion+\".bin\"\n",
        "    testWaveformDataset = Waveforms(inputFileName, testRate = 1.0, train=False)\n",
        "    testData = DataLoader(testWaveformDataset,\n",
        "                          batch_size=BATCH_SIZE, shuffle=False)\n",
        "\n",
        "    residualTofList = []\n",
        "    predictedTofList = []\n",
        "    labelTofList = []\n",
        "    print(\"Test Data: \" + dataVersion)\n",
        "    mu=sigma=0\n",
        "    with torch.no_grad( ):\n",
        "        for index, batch_data in enumerate(testData):\n",
        "            input = Variable(batch_data['waveform']).cuda()\n",
        "            b_y = Variable(batch_data['tof']).cuda().squeeze()\n",
        "            output = model(input).squeeze()\n",
        "            residualTofList.extend(\n",
        "                (output-b_y).cpu().detach().numpy().tolist())\n",
        "            predictedTofList.extend(output.cpu().detach().numpy().tolist())\n",
        "            labelTofList.extend(b_y.cpu().detach().numpy().tolist())\n",
        "\n",
        "    (mu, sigma) = norm.fit(residualTofList)\n",
        "    n, bins, patches = plt.hist(residualTofList, 50, range=(-2, 2), density=1)\n",
        "    # add a 'best fit' line\n",
        "    y = norm.pdf(bins, mu, sigma)\n",
        "    l = plt.plot(bins, y, 'r--', linewidth=2)\n",
        "    plt.xlabel('Tof residual [ns]')\n",
        "    plt.title(\n",
        "        r'$\\mathrm{Tof\\ residual:}\\ \\mu=%.3f ns,\\ \\sigma/\\sqrt{2}=%.3f ns$' % (mu, sigma/math.sqrt(2)))\n",
        "    plt.grid(True)\n",
        "    plt.savefig(outputPath + outputPrefix +\n",
        "                \"Test_\" + dataVersion + \".png\")\n",
        "    plt.clf()\n",
        "\n",
        "\n",
        "def my_mse_loss(x, y, n): \n",
        "    return torch.mean(torch.pow(torch.abs(x - y), n))\n"
      ],
      "execution_count": null,
      "outputs": []
    },
    {
      "cell_type": "code",
      "metadata": {
        "id": "oei-z_mcqrFF",
        "colab": {
          "base_uri": "https://localhost:8080/",
          "height": 340
        },
        "outputId": "9aa7de4e-e68c-4d18-c2e6-747be776b997"
      },
      "source": [
        "########################################################################################\n",
        "## EXCUTION:Training ########\n",
        "########################################################################################\n",
        "\n",
        "\n",
        "trainWaveformDataset = Waveforms(fileName, train=True)\n",
        "testWaveformDataset = Waveforms(fileName, train=False)\n",
        "trainData = DataLoader(trainWaveformDataset, batch_size=BATCH_SIZE, shuffle=True)\n",
        "testData = DataLoader(testWaveformDataset, batch_size=BATCH_SIZE, shuffle=False)\n",
        "\n",
        "model = MLP(NCHANNEL*WAVE_LENGTH,1)\n",
        "model.cuda()\n",
        "print(model)\n",
        "\n",
        "optimizer = optim.Adam(model.parameters(), lr=LR, weight_decay=WEIGHT_DECAY)\n",
        "scheduler = torch.optim.lr_scheduler.ReduceLROnPlateau(optimizer, mode='min', factor=LRD)\n",
        "print(optimizer)\n",
        "# loss_func = nn.MSELoss().cuda()\n",
        "loss_func = my_mse_loss"
      ],
      "execution_count": null,
      "outputs": [
        {
          "output_type": "stream",
          "text": [
            "NEvents =  7815.0\n",
            "NEvents =  7815.0\n",
            "MLP(\n",
            "  (linear): Sequential(\n",
            "    (0): Linear(in_features=320, out_features=320, bias=True)\n",
            "    (1): ReLU(inplace=True)\n",
            "    (2): Linear(in_features=320, out_features=80, bias=True)\n",
            "    (3): ReLU(inplace=True)\n",
            "    (4): Linear(in_features=80, out_features=1, bias=True)\n",
            "  )\n",
            ")\n",
            "Adam (\n",
            "Parameter Group 0\n",
            "    amsgrad: False\n",
            "    betas: (0.9, 0.999)\n",
            "    eps: 1e-08\n",
            "    lr: 0.0002997938539807655\n",
            "    weight_decay: 0.00048268766213577056\n",
            ")\n"
          ],
          "name": "stdout"
        }
      ]
    },
    {
      "cell_type": "code",
      "metadata": {
        "id": "E5sLW23JUFkn",
        "colab": {
          "base_uri": "https://localhost:8080/",
          "height": 85
        },
        "outputId": "95c466ac-8e54-4f5b-bbc3-96d1527153e8"
      },
      "source": [
        "import torchvision\n",
        "\n",
        "batch_data = next(iter(trainData))\n",
        "images = batch_data['waveform'][111][0]\n",
        "print(images.shape)\n",
        "#images_example=torchvision.utils.make_grid(images)\n",
        "#print(images_example.shape)\n",
        "#images_example=images_example.numpy().transpose(1,2,0)\n",
        "#mean=0.5\n",
        "#std=0.5\n",
        "#images_example=images_example*std+mean\n",
        "plt.imshow(images)\n",
        "plt.show()"
      ],
      "execution_count": null,
      "outputs": [
        {
          "output_type": "stream",
          "text": [
            "torch.Size([8, 160])\n"
          ],
          "name": "stdout"
        },
        {
          "output_type": "display_data",
          "data": {
            "image/png": "[encoded data removed]",
            "text/plain": [
              "<Figure size 432x288 with 1 Axes>"
            ]
          },
          "metadata": {
            "tags": [],
            "needs_background": "light"
          }
        }
      ]
    },
    {
      "cell_type": "code",
      "metadata": {
        "id": "NtVQqRIUw2RC",
        "colab": {
          "base_uri": "https://localhost:8080/",
          "height": 34
        },
        "outputId": "73d54492-c87b-4d10-c548-1468cd808227"
      },
      "source": [
        "batch_data = next(iter(trainData))\n",
        "batch_data['waveform'].shape"
      ],
      "execution_count": null,
      "outputs": [
        {
          "output_type": "execute_result",
          "data": {
            "text/plain": [
              "torch.Size([256, 320])"
            ]
          },
          "metadata": {
            "tags": []
          },
          "execution_count": 16
        }
      ]
    },
    {
      "cell_type": "code",
      "metadata": {
        "id": "Kn6K41AmuyNJ",
        "colab": {
          "base_uri": "https://localhost:8080/",
          "height": 102
        },
        "outputId": "e1f40d7c-96de-4b3f-cdbb-8f664f759b31"
      },
      "source": [
        "testLoss_his = []\n",
        "trainLoss_his = []\n",
        "timeResolution_his = []\n",
        "mu_his = []\n",
        "residualTofList = []\n",
        "predictedTofList = []\n",
        "labelTofList = []\n",
        "\n",
        "print(\"Data: \" + DATA_VERSION + \"; SEED = \" + str(SEED)+\"； Epochs = \" + str(EPOCHS))\n",
        "progress = ProgressBar()\n",
        "for epoch in progress(range(EPOCHS)):\n",
        "    epoch_loss = 0  # for LR decay rate scheduler\n",
        "    for index, batch_data in enumerate(trainData):\n",
        "        input = Variable(batch_data['waveform']).cuda()\n",
        "        b_y = Variable(batch_data['tof']).cuda().squeeze()\n",
        "        #print(input.size())\n",
        "        output = model(input).squeeze()\n",
        "        #print(output.size())\n",
        "        loss = loss_func(output, b_y, 2)\n",
        "        optimizer.zero_grad()\n",
        "        loss.backward()\n",
        "        optimizer.step()\n",
        "        epoch_loss += loss.data.cpu().numpy()\n",
        "    scheduler.step(epoch_loss)\n",
        "\n",
        "    # to store the sigma, mu, loss\n",
        "    if (epoch) % SAMPLE_EPOCH == 0:\n",
        "        trainLoss_his.append(loss.data.cpu().numpy())\n",
        "        residualTofList.clear()\n",
        "        predictedTofList.clear()\n",
        "        labelTofList.clear()\n",
        "        for index, batch_data in enumerate(testData):\n",
        "            input = Variable(batch_data['waveform']).cuda()\n",
        "            b_y = Variable(batch_data['tof']).cuda().squeeze()\n",
        "            output = model(input).squeeze()\n",
        "            loss = loss_func(output, b_y, 2)\n",
        "            residualTofList.extend(\n",
        "                (output-b_y).cpu().detach().numpy().tolist())\n",
        "            predictedTofList.extend(output.cpu().detach().numpy().tolist())\n",
        "            labelTofList.extend(b_y.cpu().detach().numpy().tolist())\n",
        "            # print('output length: ',output.cpu().detach().numpy().tolist().__len__())\n",
        "        # print('toflist length: ',tofList.__len__())\n",
        "        (mu, sigma) = norm.fit(residualTofList)\n",
        "        timeResolution_his.append(sigma/math.sqrt(2))\n",
        "        mu_his.append(mu)\n",
        "        testLoss_his.append(loss.data.cpu().numpy())\n",
        "        if (epoch) % 40 == 0: print(\"Test Loss: \", testLoss_his[-1])\n",
        "\n",
        "\n",
        "# save model\n",
        "torch.save(model, outputPath+outputPrefix)"
      ],
      "execution_count": null,
      "outputs": [
        {
          "output_type": "stream",
          "text": [
            "\r                                                                               \r\rN/A% (0 of 100) |                        | Elapsed Time: 0:00:00 ETA:  --:--:--"
          ],
          "name": "stderr"
        },
        {
          "output_type": "stream",
          "text": [
            "Data: Aug-200_900_6; SEED = 5； Epochs = 100\n"
          ],
          "name": "stdout"
        },
        {
          "output_type": "stream",
          "text": [
            "\r                                                                               \r\r  1% (1 of 100) |                        | Elapsed Time: 0:00:00 ETA:   0:00:37"
          ],
          "name": "stderr"
        },
        {
          "output_type": "stream",
          "text": [
            "Test Loss:  0.73553205\n"
          ],
          "name": "stdout"
        },
        {
          "output_type": "stream",
          "text": [
            " 41% (41 of 100) |#########              | Elapsed Time: 0:00:13 ETA:   0:00:20"
          ],
          "name": "stderr"
        },
        {
          "output_type": "stream",
          "text": [
            "Test Loss:  0.29735693\n"
          ],
          "name": "stdout"
        },
        {
          "output_type": "stream",
          "text": [
            " 81% (81 of 100) |##################     | Elapsed Time: 0:00:27 ETA:   0:00:06"
          ],
          "name": "stderr"
        },
        {
          "output_type": "stream",
          "text": [
            "Test Loss:  0.36072722\n"
          ],
          "name": "stdout"
        },
        {
          "output_type": "stream",
          "text": [
            "100% (100 of 100) |######################| Elapsed Time: 0:00:33 Time:  0:00:33\n"
          ],
          "name": "stderr"
        }
      ]
    },
    {
      "cell_type": "code",
      "metadata": {
        "id": "oBs4S2ZKR1yt",
        "colab": {
          "base_uri": "https://localhost:8080/",
          "height": 119
        },
        "outputId": "0c202f44-f5b0-4364-a7de-6674cd1c65bf"
      },
      "source": [
        "########################################################################################\n",
        "## EXCUTION:Plotting ########\n",
        "########################################################################################\n",
        "time_start = time.time()\n",
        "plt.plot(testLoss_his, label='testLoss')\n",
        "plt.plot(trainLoss_his, label='trainLoss')\n",
        "plt.grid(True)\n",
        "# plt.ylim([0.01, 0.08])\n",
        "# plt.ylabel(\"MSE [ns^2]\")\n",
        "plt.title(\"Loss/MSE Vs Epochs\")\n",
        "plt.xlabel(\"sampled every \"+str(SAMPLE_EPOCH)+\" epochs\")\n",
        "plt.legend()\n",
        "plt.savefig(outputPath+outputPrefix+\"_Loss.png\")\n",
        "plt.clf()\n",
        "\n",
        "plt.plot(mu_his)\n",
        "plt.grid(True)\n",
        "plt.title(\"Average predicted ToF Vs Epochs\")\n",
        "plt.ylabel(\"Average of predicted ToF [ns]\")\n",
        "plt.ylim([-0.1, 0.1])\n",
        "plt.xlabel(\"sampled every \"+str(SAMPLE_EPOCH)+\" epochs\")\n",
        "plt.savefig(outputPath+outputPrefix+\"_Mu.png\")\n",
        "plt.clf()\n",
        "\n",
        "plt.plot(timeResolution_his)\n",
        "plt.ylabel(\"Time Resolution [ns]\")\n",
        "plt.grid(True)\n",
        "plt.ylim([0.05, 0.30])\n",
        "plt.title(\"TimeResolution Vs Epochs\")\n",
        "plt.xlabel(\"sampled every \"+str(SAMPLE_EPOCH)+\" epochs\")\n",
        "plt.savefig(outputPath+outputPrefix+\"_TR.png\")\n",
        "plt.clf()\n",
        "\n",
        "(mu, sigma) = norm.fit(residualTofList)\n",
        "n, bins, patches = plt.hist(residualTofList, 100, range=(-1, 1), density=1)\n",
        "# add a 'best fit' line\n",
        "y = norm.pdf(bins, mu, sigma)\n",
        "l = plt.plot(bins, y, 'r--', linewidth=2)\n",
        "plt.xlabel('Tof residual [ns]')\n",
        "# plt.ylabel('Probability')\n",
        "plt.title(r'$\\mathrm{Tof\\ residual:}\\ \\mu=%.3f ns,\\ \\sigma/\\sqrt{2}=%.3f ns$' %(mu, sigma/math.sqrt(2)))\n",
        "plt.grid(True)\n",
        "plt.savefig(outputPath+outputPrefix+\"_TofHist.png\")\n",
        "plt.clf()\n",
        "\n",
        "#for dataVersion in ['247_4','359_4']:\n",
        "for dataVersion in ['300_6','345_6']:\n",
        "    testDataset(model, dataVersion, outputPrefix, input_prefix=workspace+\"/data_6/\")\n",
        "\n",
        "time_end = time.time()\n",
        "print('time cost', time_end-time_start, 's')"
      ],
      "execution_count": null,
      "outputs": [
        {
          "output_type": "stream",
          "text": [
            "NEvents =  4278.0\n",
            "Test Data: 300_6\n",
            "NEvents =  3538.0\n",
            "Test Data: 345_6\n",
            "time cost 1.633812665939331 s\n"
          ],
          "name": "stdout"
        },
        {
          "output_type": "display_data",
          "data": {
            "text/plain": [
              "<Figure size 432x288 with 0 Axes>"
            ]
          },
          "metadata": {
            "tags": []
          }
        }
      ]
    },
    {
      "cell_type": "code",
      "metadata": {
        "id": "_7nSbqiLBBPj"
      },
      "source": [
        ""
      ],
      "execution_count": null,
      "outputs": []
    }
  ]
}